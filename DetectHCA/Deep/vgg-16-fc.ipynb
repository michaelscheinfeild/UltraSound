{
 "cells": [
  {
   "cell_type": "markdown",
   "id": "9d3d62ac",
   "metadata": {
    "papermill": {
     "duration": 0.008908,
     "end_time": "2023-10-15T14:28:32.998809",
     "exception": false,
     "start_time": "2023-10-15T14:28:32.989901",
     "status": "completed"
    },
    "tags": []
   },
   "source": [
    "# **Libraries**"
   ]
  },
  {
   "cell_type": "code",
   "execution_count": 1,
   "id": "ac04e16b",
   "metadata": {
    "execution": {
     "iopub.execute_input": "2023-10-15T14:28:33.011368Z",
     "iopub.status.busy": "2023-10-15T14:28:33.010589Z",
     "iopub.status.idle": "2023-10-15T14:28:39.061193Z",
     "shell.execute_reply": "2023-10-15T14:28:39.060275Z"
    },
    "papermill": {
     "duration": 6.059498,
     "end_time": "2023-10-15T14:28:39.063723",
     "exception": false,
     "start_time": "2023-10-15T14:28:33.004225",
     "status": "completed"
    },
    "tags": []
   },
   "outputs": [],
   "source": [
    "# PyTorch\n",
    "import torch\n",
    "from torchvision import transforms, datasets, models\n",
    "from torch.utils.data.dataset import Dataset\n",
    "from torch.utils.data import Dataset, DataLoader\n",
    "from torchvision import transforms, utils\n",
    "import torch.nn as nn\n",
    "from torch import optim, cuda\n",
    "import pandas as pd\n",
    "import os\n",
    "# Visualizations\n",
    "import matplotlib.pyplot as plt\n",
    "from skimage import io, transform\n",
    "\n",
    "# Ignore warnings\n",
    "import warnings\n",
    "warnings.filterwarnings(\"ignore\")\n",
    "\n",
    "plt.ion()   # interactive mode\n",
    "\n",
    "# Timing utility\n",
    "from timeit import default_timer as timer\n"
   ]
  },
  {
   "cell_type": "markdown",
   "id": "4171fde8",
   "metadata": {
    "papermill": {
     "duration": 0.005006,
     "end_time": "2023-10-15T14:28:39.074039",
     "exception": false,
     "start_time": "2023-10-15T14:28:39.069033",
     "status": "completed"
    },
    "tags": []
   },
   "source": [
    "# **Variables**"
   ]
  },
  {
   "cell_type": "code",
   "execution_count": 2,
   "id": "9e084b56",
   "metadata": {
    "execution": {
     "iopub.execute_input": "2023-10-15T14:28:39.085520Z",
     "iopub.status.busy": "2023-10-15T14:28:39.085083Z",
     "iopub.status.idle": "2023-10-15T14:28:39.091336Z",
     "shell.execute_reply": "2023-10-15T14:28:39.090420Z"
    },
    "papermill": {
     "duration": 0.014992,
     "end_time": "2023-10-15T14:28:39.093950",
     "exception": false,
     "start_time": "2023-10-15T14:28:39.078958",
     "status": "completed"
    },
    "tags": []
   },
   "outputs": [
    {
     "name": "stdout",
     "output_type": "stream",
     "text": [
      "Train on gpu: True\n",
      "2 gpus detected.\n"
     ]
    }
   ],
   "source": [
    "save_file_name = 'vgg16-transfer-4.pt'\n",
    "checkpoint_path = 'vgg16-transfer-4.pth'\n",
    "earlyStop= 5\n",
    "epochsNo= 20\n",
    "\n",
    "root_dir='/kaggle/input/fetal-head-thesis/training_set/training_set/'\n",
    "csv_file='/kaggle/input/fetal-head-thesis/training_set_pixel_size_and_HC.csv'\n",
    "img_size = 224\n",
    "cropped_img = 224\n",
    "batch_size = 100\n",
    "\n",
    "# Whether to train on a gpu\n",
    "train_on_gpu = cuda.is_available()\n",
    "print(f'Train on gpu: {train_on_gpu}')\n",
    "\n",
    "# Number of gpus\n",
    "if train_on_gpu:\n",
    "    gpu_count = cuda.device_count()\n",
    "    print(f'{gpu_count} gpus detected.')"
   ]
  },
  {
   "cell_type": "markdown",
   "id": "c64d1513",
   "metadata": {
    "papermill": {
     "duration": 0.005117,
     "end_time": "2023-10-15T14:28:39.104187",
     "exception": false,
     "start_time": "2023-10-15T14:28:39.099070",
     "status": "completed"
    },
    "tags": []
   },
   "source": [
    "# **Data Analysis & Manipulation**"
   ]
  },
  {
   "cell_type": "code",
   "execution_count": 3,
   "id": "8e51f6ff",
   "metadata": {
    "_cell_guid": "79c7e3d0-c299-4dcb-8224-4455121ee9b0",
    "_uuid": "d629ff2d2480ee46fbb7e2d37f6b5fab8052498a",
    "execution": {
     "iopub.execute_input": "2023-10-15T14:28:39.116007Z",
     "iopub.status.busy": "2023-10-15T14:28:39.115757Z",
     "iopub.status.idle": "2023-10-15T14:28:39.491031Z",
     "shell.execute_reply": "2023-10-15T14:28:39.489944Z"
    },
    "papermill": {
     "duration": 0.384128,
     "end_time": "2023-10-15T14:28:39.493503",
     "exception": false,
     "start_time": "2023-10-15T14:28:39.109375",
     "status": "completed"
    },
    "tags": []
   },
   "outputs": [
    {
     "name": "stdout",
     "output_type": "stream",
     "text": [
      "train 564 validation 121 Test 121\n"
     ]
    },
    {
     "data": {
      "text/html": [
       "<div>\n",
       "<style scoped>\n",
       "    .dataframe tbody tr th:only-of-type {\n",
       "        vertical-align: middle;\n",
       "    }\n",
       "\n",
       "    .dataframe tbody tr th {\n",
       "        vertical-align: top;\n",
       "    }\n",
       "\n",
       "    .dataframe thead th {\n",
       "        text-align: right;\n",
       "    }\n",
       "</style>\n",
       "<table border=\"1\" class=\"dataframe\">\n",
       "  <thead>\n",
       "    <tr style=\"text-align: right;\">\n",
       "      <th></th>\n",
       "      <th>pixel_size</th>\n",
       "      <th>HC</th>\n",
       "    </tr>\n",
       "  </thead>\n",
       "  <tbody>\n",
       "    <tr>\n",
       "      <th>count</th>\n",
       "      <td>806.000000</td>\n",
       "      <td>806.000000</td>\n",
       "    </tr>\n",
       "    <tr>\n",
       "      <th>mean</th>\n",
       "      <td>0.138848</td>\n",
       "      <td>173.971600</td>\n",
       "    </tr>\n",
       "    <tr>\n",
       "      <th>std</th>\n",
       "      <td>0.051949</td>\n",
       "      <td>64.761672</td>\n",
       "    </tr>\n",
       "    <tr>\n",
       "      <th>min</th>\n",
       "      <td>0.049415</td>\n",
       "      <td>44.300000</td>\n",
       "    </tr>\n",
       "    <tr>\n",
       "      <th>25%</th>\n",
       "      <td>0.108393</td>\n",
       "      <td>153.925000</td>\n",
       "    </tr>\n",
       "    <tr>\n",
       "      <th>50%</th>\n",
       "      <td>0.128191</td>\n",
       "      <td>174.225000</td>\n",
       "    </tr>\n",
       "    <tr>\n",
       "      <th>75%</th>\n",
       "      <td>0.157101</td>\n",
       "      <td>188.797500</td>\n",
       "    </tr>\n",
       "    <tr>\n",
       "      <th>max</th>\n",
       "      <td>0.393280</td>\n",
       "      <td>346.400000</td>\n",
       "    </tr>\n",
       "  </tbody>\n",
       "</table>\n",
       "</div>"
      ],
      "text/plain": [
       "       pixel_size          HC\n",
       "count  806.000000  806.000000\n",
       "mean     0.138848  173.971600\n",
       "std      0.051949   64.761672\n",
       "min      0.049415   44.300000\n",
       "25%      0.108393  153.925000\n",
       "50%      0.128191  174.225000\n",
       "75%      0.157101  188.797500\n",
       "max      0.393280  346.400000"
      ]
     },
     "execution_count": 3,
     "metadata": {},
     "output_type": "execute_result"
    }
   ],
   "source": [
    "HC_df=pd.read_csv(os.path.join(csv_file))\n",
    "\n",
    "from sklearn.model_selection import train_test_split\n",
    "HC_df = HC_df[['filename','pixel size(mm)','head circumference (mm)']].drop_duplicates()\n",
    "HC_df=HC_df[['filename','pixel size(mm)','head circumference (mm)']].copy().rename(columns={'pixel size(mm)':'pixel_size','head circumference (mm)':'HC'})\n",
    "\n",
    "HC_df = HC_df[HC_df.filename.str.contains(\"_HC\")]\n",
    "\n",
    "train_df, test_val = train_test_split(HC_df, test_size = 0.3,random_state = 2020)\n",
    "valid_df, test_df = train_test_split(test_val, test_size = 0.5,random_state = 2020)\n",
    "\n",
    "# print('train', train_df.shape[0], 'validation', valid_df.shape[0],'Test',test_df.shape[0])\n",
    "# train_df = train_df.groupby(['pixel_size', 'normalized_HC_pixels']).apply(lambda x: x.sample(2, replace = True)).reset_index(drop = True)\n",
    "print('train', train_df.shape[0], 'validation', valid_df.shape[0],'Test',test_df.shape[0])\n",
    "\n",
    "HC_df.describe()"
   ]
  },
  {
   "cell_type": "code",
   "execution_count": 4,
   "id": "a4be1b89",
   "metadata": {
    "execution": {
     "iopub.execute_input": "2023-10-15T14:28:39.507371Z",
     "iopub.status.busy": "2023-10-15T14:28:39.506495Z",
     "iopub.status.idle": "2023-10-15T14:28:39.517581Z",
     "shell.execute_reply": "2023-10-15T14:28:39.516533Z"
    },
    "papermill": {
     "duration": 0.019769,
     "end_time": "2023-10-15T14:28:39.519541",
     "exception": false,
     "start_time": "2023-10-15T14:28:39.499772",
     "status": "completed"
    },
    "tags": []
   },
   "outputs": [
    {
     "data": {
      "text/html": [
       "<div>\n",
       "<style scoped>\n",
       "    .dataframe tbody tr th:only-of-type {\n",
       "        vertical-align: middle;\n",
       "    }\n",
       "\n",
       "    .dataframe tbody tr th {\n",
       "        vertical-align: top;\n",
       "    }\n",
       "\n",
       "    .dataframe thead th {\n",
       "        text-align: right;\n",
       "    }\n",
       "</style>\n",
       "<table border=\"1\" class=\"dataframe\">\n",
       "  <thead>\n",
       "    <tr style=\"text-align: right;\">\n",
       "      <th></th>\n",
       "      <th>filename</th>\n",
       "      <th>pixel_size</th>\n",
       "      <th>HC</th>\n",
       "    </tr>\n",
       "  </thead>\n",
       "  <tbody>\n",
       "    <tr>\n",
       "      <th>0</th>\n",
       "      <td>000_HC.png</td>\n",
       "      <td>0.069136</td>\n",
       "      <td>44.30</td>\n",
       "    </tr>\n",
       "    <tr>\n",
       "      <th>1</th>\n",
       "      <td>001_HC.png</td>\n",
       "      <td>0.089659</td>\n",
       "      <td>56.81</td>\n",
       "    </tr>\n",
       "    <tr>\n",
       "      <th>2</th>\n",
       "      <td>002_HC.png</td>\n",
       "      <td>0.062033</td>\n",
       "      <td>68.75</td>\n",
       "    </tr>\n",
       "    <tr>\n",
       "      <th>3</th>\n",
       "      <td>003_HC.png</td>\n",
       "      <td>0.091291</td>\n",
       "      <td>69.00</td>\n",
       "    </tr>\n",
       "    <tr>\n",
       "      <th>4</th>\n",
       "      <td>004_HC.png</td>\n",
       "      <td>0.061240</td>\n",
       "      <td>59.81</td>\n",
       "    </tr>\n",
       "  </tbody>\n",
       "</table>\n",
       "</div>"
      ],
      "text/plain": [
       "     filename  pixel_size     HC\n",
       "0  000_HC.png    0.069136  44.30\n",
       "1  001_HC.png    0.089659  56.81\n",
       "2  002_HC.png    0.062033  68.75\n",
       "3  003_HC.png    0.091291  69.00\n",
       "4  004_HC.png    0.061240  59.81"
      ]
     },
     "execution_count": 4,
     "metadata": {},
     "output_type": "execute_result"
    }
   ],
   "source": [
    "HC_df.head()"
   ]
  },
  {
   "cell_type": "code",
   "execution_count": 5,
   "id": "83f58d0c",
   "metadata": {
    "execution": {
     "iopub.execute_input": "2023-10-15T14:28:39.533083Z",
     "iopub.status.busy": "2023-10-15T14:28:39.532094Z",
     "iopub.status.idle": "2023-10-15T14:28:40.002997Z",
     "shell.execute_reply": "2023-10-15T14:28:40.001928Z"
    },
    "papermill": {
     "duration": 0.479611,
     "end_time": "2023-10-15T14:28:40.005046",
     "exception": false,
     "start_time": "2023-10-15T14:28:39.525435",
     "status": "completed"
    },
    "tags": []
   },
   "outputs": [
    {
     "data": {
      "text/plain": [
       "Text(0.5, 1.0, 'HC')"
      ]
     },
     "execution_count": 5,
     "metadata": {},
     "output_type": "execute_result"
    },
    {
     "data": {
      "image/png": "[encoded data removed]",
      "text/plain": [
       "<Figure size 640x480 with 1 Axes>"
      ]
     },
     "metadata": {},
     "output_type": "display_data"
    },
    {
     "data": {
      "image/png": "[encoded data removed]",
      "text/plain": [
       "<Figure size 640x480 with 1 Axes>"
      ]
     },
     "metadata": {},
     "output_type": "display_data"
    }
   ],
   "source": [
    " # plot a histogram  \n",
    "HC_df['HC'].hist(bins=10)\n",
    "columns = ['HC']\n",
    "HC_df[columns].plot.box()\n",
    "plt.xticks(rotation='vertical')\n",
    "plt.title('HC')"
   ]
  },
  {
   "cell_type": "code",
   "execution_count": 6,
   "id": "8c9bf93a",
   "metadata": {
    "execution": {
     "iopub.execute_input": "2023-10-15T14:28:40.019009Z",
     "iopub.status.busy": "2023-10-15T14:28:40.018734Z",
     "iopub.status.idle": "2023-10-15T14:28:40.024834Z",
     "shell.execute_reply": "2023-10-15T14:28:40.023584Z"
    },
    "papermill": {
     "duration": 0.015331,
     "end_time": "2023-10-15T14:28:40.026892",
     "exception": false,
     "start_time": "2023-10-15T14:28:40.011561",
     "status": "completed"
    },
    "tags": []
   },
   "outputs": [
    {
     "name": "stdout",
     "output_type": "stream",
     "text": [
      "max hc 346.4\n"
     ]
    }
   ],
   "source": [
    "max_hc = HC_df['HC'].max()\n",
    "print('max hc',max_hc)"
   ]
  },
  {
   "cell_type": "code",
   "execution_count": 7,
   "id": "ff4f068a",
   "metadata": {
    "execution": {
     "iopub.execute_input": "2023-10-15T14:28:40.040421Z",
     "iopub.status.busy": "2023-10-15T14:28:40.040164Z",
     "iopub.status.idle": "2023-10-15T14:28:40.051452Z",
     "shell.execute_reply": "2023-10-15T14:28:40.050346Z"
    },
    "papermill": {
     "duration": 0.019948,
     "end_time": "2023-10-15T14:28:40.053470",
     "exception": false,
     "start_time": "2023-10-15T14:28:40.033522",
     "status": "completed"
    },
    "tags": []
   },
   "outputs": [],
   "source": [
    "train_df.to_csv(\"/kaggle/working/train_file.csv\", index=False, encoding='utf8')\n",
    "\n",
    "valid_df.to_csv(\"/kaggle/working/val_file.csv\", index=False, encoding='utf8')\n",
    "\n",
    "test_df.to_csv(\"/kaggle/working/test_file.csv\", index=False, encoding='utf8')"
   ]
  },
  {
   "cell_type": "markdown",
   "id": "1102e338",
   "metadata": {
    "papermill": {
     "duration": 0.005984,
     "end_time": "2023-10-15T14:28:40.065651",
     "exception": false,
     "start_time": "2023-10-15T14:28:40.059667",
     "status": "completed"
    },
    "tags": []
   },
   "source": [
    "# **Custom Dataset Class**"
   ]
  },
  {
   "cell_type": "code",
   "execution_count": 8,
   "id": "a4ca6de9",
   "metadata": {
    "execution": {
     "iopub.execute_input": "2023-10-15T14:28:40.078954Z",
     "iopub.status.busy": "2023-10-15T14:28:40.078718Z",
     "iopub.status.idle": "2023-10-15T14:28:40.085931Z",
     "shell.execute_reply": "2023-10-15T14:28:40.084776Z"
    },
    "papermill": {
     "duration": 0.016326,
     "end_time": "2023-10-15T14:28:40.087748",
     "exception": false,
     "start_time": "2023-10-15T14:28:40.071422",
     "status": "completed"
    },
    "tags": []
   },
   "outputs": [],
   "source": [
    "# Image manipulations\n",
    "from PIL import Image\n",
    "\n",
    "class HC_18(Dataset):\n",
    "    \"\"\"Head circumference estimation dataset.\"\"\"\n",
    "\n",
    "    def __init__(self, csv_file, root_dir, transform=None):\n",
    "        \"\"\"\n",
    "        Args:\n",
    "            csv_file (string): Path to the csv file with annotations.\n",
    "            root_dir (string): Directory with all the images.\n",
    "            transform (callable, optional): Optional transform to be applied\n",
    "                on a sample.\n",
    "        \"\"\"\n",
    "        self.HC_df = pd.read_csv(csv_file)\n",
    "        self.root_dir = root_dir\n",
    "        self.transform = transform\n",
    "\n",
    "    def __len__(self):\n",
    "        return len(self.HC_df)\n",
    "\n",
    "    def __getitem__(self, idx):\n",
    "        if torch.is_tensor(idx):\n",
    "            idx = idx.tolist()\n",
    "\n",
    "        img_name = os.path.join(self.root_dir,self.HC_df.iloc[idx, 0])\n",
    "        image = Image.open(img_name)\n",
    "        features = self.HC_df.loc[idx,'HC']\n",
    "        \n",
    "        if self.transform:\n",
    "            image = self.transform(image)\n",
    "        return image , torch.tensor(features / 346.4)\n"
   ]
  },
  {
   "cell_type": "markdown",
   "id": "0676c982",
   "metadata": {
    "papermill": {
     "duration": 0.005684,
     "end_time": "2023-10-15T14:28:40.099434",
     "exception": false,
     "start_time": "2023-10-15T14:28:40.093750",
     "status": "completed"
    },
    "tags": []
   },
   "source": [
    "# **Images Transformations**"
   ]
  },
  {
   "cell_type": "code",
   "execution_count": 9,
   "id": "02121b0b",
   "metadata": {
    "execution": {
     "iopub.execute_input": "2023-10-15T14:28:40.112974Z",
     "iopub.status.busy": "2023-10-15T14:28:40.112257Z",
     "iopub.status.idle": "2023-10-15T14:28:40.120186Z",
     "shell.execute_reply": "2023-10-15T14:28:40.119081Z"
    },
    "papermill": {
     "duration": 0.016456,
     "end_time": "2023-10-15T14:28:40.121952",
     "exception": false,
     "start_time": "2023-10-15T14:28:40.105496",
     "status": "completed"
    },
    "tags": []
   },
   "outputs": [],
   "source": [
    "image_transforms = {\n",
    "    # Train uses data augmentation\n",
    "    'train':\n",
    "        transforms.Compose([\n",
    "            transforms.Grayscale(num_output_channels=3),\n",
    "            transforms.Resize(size=img_size),\n",
    "            transforms.RandomRotation(degrees=10),\n",
    "#             transforms.GaussianBlur(5),\n",
    "            transforms.RandomHorizontalFlip(),\n",
    "            transforms.CenterCrop(size=cropped_img),  # Image net standards\n",
    "            transforms.ToTensor(),\n",
    "            transforms.Normalize([0.485, 0.456, 0.406], [0.229, 0.224, 0.225])\n",
    "        ]),\n",
    "\n",
    "    # Validation does not use augmentation\n",
    "    'val':\n",
    "        transforms.Compose([\n",
    "            transforms.Grayscale(num_output_channels=3),\n",
    "            transforms.Resize(size=img_size),\n",
    "            transforms.CenterCrop(size=cropped_img),\n",
    "            transforms.ToTensor(),\n",
    "            transforms.Normalize([0.485, 0.456, 0.406], [0.229, 0.224, 0.225])\n",
    "        ]),\n",
    "    # Test does not use augmentation\n",
    "    'test':\n",
    "        transforms.Compose([\n",
    "            transforms.Grayscale(num_output_channels=3),\n",
    "            transforms.Resize(size=img_size),\n",
    "            transforms.CenterCrop(size=cropped_img),\n",
    "            transforms.ToTensor(),\n",
    "            transforms.Normalize([0.485, 0.456, 0.406], [0.229, 0.224, 0.225])\n",
    "        ])}"
   ]
  },
  {
   "cell_type": "markdown",
   "id": "322dd482",
   "metadata": {
    "papermill": {
     "duration": 0.005965,
     "end_time": "2023-10-15T14:28:40.134024",
     "exception": false,
     "start_time": "2023-10-15T14:28:40.128059",
     "status": "completed"
    },
    "tags": []
   },
   "source": [
    "# **Dataloader**"
   ]
  },
  {
   "cell_type": "code",
   "execution_count": 10,
   "id": "050fd608",
   "metadata": {
    "execution": {
     "iopub.execute_input": "2023-10-15T14:28:40.147702Z",
     "iopub.status.busy": "2023-10-15T14:28:40.146779Z",
     "iopub.status.idle": "2023-10-15T14:28:40.159088Z",
     "shell.execute_reply": "2023-10-15T14:28:40.158279Z"
    },
    "papermill": {
     "duration": 0.020841,
     "end_time": "2023-10-15T14:28:40.160904",
     "exception": false,
     "start_time": "2023-10-15T14:28:40.140063",
     "status": "completed"
    },
    "tags": []
   },
   "outputs": [],
   "source": [
    "train_filename='train_file.csv'\n",
    "val_filename='val_file.csv'\n",
    "test_filename='test_file.csv'\n",
    "\n",
    "data = {'train': HC_18(train_filename ,root_dir = root_dir,transform = image_transforms['train']),\n",
    "        'val': HC_18(val_filename ,root_dir = root_dir,transform = image_transforms['val']),\n",
    "        'test': HC_18(test_filename ,root_dir = root_dir,transform = image_transforms['test'])\n",
    "       }\n",
    "\n",
    "# Dataloader iterators\n",
    "dataloaders ={\n",
    "    'train': DataLoader(data['train'], batch_size=batch_size,shuffle=True),\n",
    "    'val': DataLoader(data['val'], batch_size=batch_size,shuffle=False),\n",
    "    'test': DataLoader(data['test'], batch_size=len(test_df),shuffle=False)\n",
    "}"
   ]
  },
  {
   "cell_type": "markdown",
   "id": "f9c9b4af",
   "metadata": {
    "papermill": {
     "duration": 0.005737,
     "end_time": "2023-10-15T14:28:40.172564",
     "exception": false,
     "start_time": "2023-10-15T14:28:40.166827",
     "status": "completed"
    },
    "tags": []
   },
   "source": [
    "# **Model**"
   ]
  },
  {
   "cell_type": "code",
   "execution_count": 11,
   "id": "633d5ee0",
   "metadata": {
    "execution": {
     "iopub.execute_input": "2023-10-15T14:28:40.186702Z",
     "iopub.status.busy": "2023-10-15T14:28:40.185792Z",
     "iopub.status.idle": "2023-10-15T14:28:48.313585Z",
     "shell.execute_reply": "2023-10-15T14:28:48.312469Z"
    },
    "papermill": {
     "duration": 8.137716,
     "end_time": "2023-10-15T14:28:48.316249",
     "exception": false,
     "start_time": "2023-10-15T14:28:40.178533",
     "status": "completed"
    },
    "tags": []
   },
   "outputs": [
    {
     "name": "stderr",
     "output_type": "stream",
     "text": [
      "Downloading: \"https://download.pytorch.org/models/vgg16-397923af.pth\" to /root/.cache/torch/hub/checkpoints/vgg16-397923af.pth\n"
     ]
    },
    {
     "data": {
      "application/vnd.jupyter.widget-view+json": {
       "model_id": "cdb891321b71475f9dd3a2480e531259",
       "version_major": 2,
       "version_minor": 0
      },
      "text/plain": [
       "  0%|          | 0.00/528M [00:00<?, ?B/s]"
      ]
     },
     "metadata": {},
     "output_type": "display_data"
    },
    {
     "name": "stdout",
     "output_type": "stream",
     "text": [
      "VGG(\n",
      "  (features): Sequential(\n",
      "    (0): Conv2d(3, 64, kernel_size=(3, 3), stride=(1, 1), padding=(1, 1))\n",
      "    (1): ReLU(inplace=True)\n",
      "    (2): Conv2d(64, 64, kernel_size=(3, 3), stride=(1, 1), padding=(1, 1))\n",
      "    (3): ReLU(inplace=True)\n",
      "    (4): MaxPool2d(kernel_size=2, stride=2, padding=0, dilation=1, ceil_mode=False)\n",
      "    (5): Conv2d(64, 128, kernel_size=(3, 3), stride=(1, 1), padding=(1, 1))\n",
      "    (6): ReLU(inplace=True)\n",
      "    (7): Conv2d(128, 128, kernel_size=(3, 3), stride=(1, 1), padding=(1, 1))\n",
      "    (8): ReLU(inplace=True)\n",
      "    (9): MaxPool2d(kernel_size=2, stride=2, padding=0, dilation=1, ceil_mode=False)\n",
      "    (10): Conv2d(128, 256, kernel_size=(3, 3), stride=(1, 1), padding=(1, 1))\n",
      "    (11): ReLU(inplace=True)\n",
      "    (12): Conv2d(256, 256, kernel_size=(3, 3), stride=(1, 1), padding=(1, 1))\n",
      "    (13): ReLU(inplace=True)\n",
      "    (14): Conv2d(256, 256, kernel_size=(3, 3), stride=(1, 1), padding=(1, 1))\n",
      "    (15): ReLU(inplace=True)\n",
      "    (16): MaxPool2d(kernel_size=2, stride=2, padding=0, dilation=1, ceil_mode=False)\n",
      "    (17): Conv2d(256, 512, kernel_size=(3, 3), stride=(1, 1), padding=(1, 1))\n",
      "    (18): ReLU(inplace=True)\n",
      "    (19): Conv2d(512, 512, kernel_size=(3, 3), stride=(1, 1), padding=(1, 1))\n",
      "    (20): ReLU(inplace=True)\n",
      "    (21): Conv2d(512, 512, kernel_size=(3, 3), stride=(1, 1), padding=(1, 1))\n",
      "    (22): ReLU(inplace=True)\n",
      "    (23): MaxPool2d(kernel_size=2, stride=2, padding=0, dilation=1, ceil_mode=False)\n",
      "    (24): Conv2d(512, 512, kernel_size=(3, 3), stride=(1, 1), padding=(1, 1))\n",
      "    (25): ReLU(inplace=True)\n",
      "    (26): Conv2d(512, 512, kernel_size=(3, 3), stride=(1, 1), padding=(1, 1))\n",
      "    (27): ReLU(inplace=True)\n",
      "    (28): Conv2d(512, 512, kernel_size=(3, 3), stride=(1, 1), padding=(1, 1))\n",
      "    (29): ReLU(inplace=True)\n",
      "    (30): MaxPool2d(kernel_size=2, stride=2, padding=0, dilation=1, ceil_mode=False)\n",
      "  )\n",
      "  (avgpool): AdaptiveAvgPool2d(output_size=(7, 7))\n",
      "  (classifier): Sequential(\n",
      "    (0): Dropout(p=0.5, inplace=False)\n",
      "    (1): Linear(in_features=25088, out_features=1, bias=True)\n",
      "  )\n",
      ")\n"
     ]
    }
   ],
   "source": [
    "model = models.vgg16(pretrained=True)\n",
    "n_inputs = model.classifier[0].in_features\n",
    "model.classifier = nn.Sequential(\n",
    "    nn.Dropout(0.5),\n",
    "    nn.Linear(n_inputs, 1 , bias = True)) \n",
    "\n",
    "print(model)\n",
    "\n",
    "if train_on_gpu:\n",
    "    model = model.to('cuda')\n"
   ]
  },
  {
   "cell_type": "markdown",
   "id": "78f08a87",
   "metadata": {
    "papermill": {
     "duration": 0.006902,
     "end_time": "2023-10-15T14:28:48.332916",
     "exception": false,
     "start_time": "2023-10-15T14:28:48.326014",
     "status": "completed"
    },
    "tags": []
   },
   "source": [
    "# **Training Function**"
   ]
  },
  {
   "cell_type": "code",
   "execution_count": 12,
   "id": "490d9197",
   "metadata": {
    "execution": {
     "iopub.execute_input": "2023-10-15T14:28:48.350420Z",
     "iopub.status.busy": "2023-10-15T14:28:48.350075Z",
     "iopub.status.idle": "2023-10-15T14:28:48.364736Z",
     "shell.execute_reply": "2023-10-15T14:28:48.363694Z"
    },
    "papermill": {
     "duration": 0.02435,
     "end_time": "2023-10-15T14:28:48.366648",
     "exception": false,
     "start_time": "2023-10-15T14:28:48.342298",
     "status": "completed"
    },
    "tags": []
   },
   "outputs": [],
   "source": [
    "# --------------------------------------Training\n",
    "def train(model,criterion,optimizer,train_loader,valid_loader,save_file_name,max_epochs_stop=3,n_epochs=20,print_every=1):\n",
    "\n",
    "    # Early stopping intialization\n",
    "    epochs_no_improve = 0\n",
    "    valid_loss_min = np.Inf\n",
    "    valid_max_acc = 0\n",
    "    history = []\n",
    "    # Number of epochs already trained (if using loaded in model weights)\n",
    "    try:\n",
    "        print(f'Model has been trained for: {model.epochs} epochs.\\n')\n",
    "    except:\n",
    "        model.epochs = 0\n",
    "        print(f'Starting Training from Scratch...\\n')\n",
    "\n",
    "    overall_start = timer()\n",
    "\n",
    "    # Main loop\n",
    "    for epoch in range(n_epochs):\n",
    "        # keep track of training and validation loss each epoch\n",
    "        train_loss = 0.0\n",
    "        valid_loss = 0.0\n",
    "        # Set to training\n",
    "        model.train()\n",
    "        start = timer()\n",
    "\n",
    "        # Training loop\n",
    "        for ii, (data, target) in enumerate(train_loader):\n",
    "            # Tensors to gpu\n",
    "            if train_on_gpu:\n",
    "                data, target = data.cuda(), target.cuda()\n",
    "\n",
    "            # Clear gradients\n",
    "            optimizer.zero_grad()\n",
    "            # Predicted outputs are log probabilities\n",
    "            output = model(data)\n",
    "            # Loss and backpropagation of gradients\n",
    "            loss = criterion(output, target.float())\n",
    "            loss.backward()\n",
    "\n",
    "            # Update the parameters\n",
    "            optimizer.step()\n",
    "\n",
    "            # Track train loss by multiplying average loss by number of examples in batch\n",
    "            train_loss += loss.item() * data.size(0)\n",
    "\n",
    "            # Track training progress\n",
    "            print( f'Epoch: {epoch+1}\\t{100 * (ii + 1) / len(train_loader):.2f}% complete. {timer() - start:.2f} seconds elapsed in epoch.',end='\\r')\n",
    "\n",
    "        # After training loops ends, start validation\n",
    "        else:\n",
    "            model.epochs += 1\n",
    "\n",
    "            # Don't need to keep track of gradients\n",
    "            with torch.no_grad():\n",
    "                # Set to evaluation mode\n",
    "                model.eval()\n",
    "\n",
    "                # Validation loop\n",
    "                for data, target in valid_loader:\n",
    "                    # Tensors to gpu\n",
    "                    if train_on_gpu:\n",
    "                        data, target = data.cuda(), target.cuda()\n",
    "\n",
    "                    # Forward pass\n",
    "                    output = model(data)\n",
    "\n",
    "                    # Validation loss\n",
    "                    loss = criterion(output, target.float())\n",
    "                    # Multiply average loss times the number of examples in batch\n",
    "                    valid_loss += loss.item() * data.size(0)\n",
    "                    \n",
    "                # Calculate average losses\n",
    "                train_loss = train_loss / len(train_loader.dataset)\n",
    "                valid_loss = valid_loss / len(valid_loader.dataset)\n",
    "\n",
    "                history.append([train_loss, valid_loss])\n",
    "                # Print training and validation results\n",
    "                if (epoch + 1) % print_every == 0:\n",
    "                    print(f'\\nEpoch: {epoch+1} \\tTraining Loss: {train_loss:.4f} \\t\\tValidation Loss: {valid_loss:.4f}')\n",
    "\n",
    "                # Save the model if validation loss decreases\n",
    "                if valid_loss < valid_loss_min:\n",
    "                    # Save model\n",
    "                    torch.save(model.state_dict(), save_file_name)\n",
    "                    # Track improvement\n",
    "                    epochs_no_improve = 0\n",
    "                    valid_loss_min = valid_loss\n",
    "                    best_epoch = epoch\n",
    "\n",
    "                # Otherwise increment count of epochs with no improvement\n",
    "                else:\n",
    "                    epochs_no_improve += 1\n",
    "                    # Trigger early stopping\n",
    "                    if epochs_no_improve >= max_epochs_stop:\n",
    "                        print(f'\\nEarly Stopping! Total epochs: {epoch+1}. Best epoch: {best_epoch+1} with loss: {valid_loss_min:.2f}')\n",
    "                        total_time = timer() - overall_start\n",
    "                        print(f'{total_time:.2f} total seconds elapsed. {total_time / (epoch+1):.2f} seconds per epoch.')\n",
    "\n",
    "                        # Load the best state dict\n",
    "                        model.load_state_dict(torch.load(save_file_name))\n",
    "                        # Attach the optimizer\n",
    "                        model.optimizer = optimizer\n",
    "\n",
    "                        # Format history\n",
    "                        history = pd.DataFrame(history,columns=['train_loss', 'valid_loss'])\n",
    "                        return model, history\n",
    "\n",
    "    # Attach the optimizer\n",
    "    model.optimizer = optimizer\n",
    "    # Record overall time and print out stats\n",
    "    total_time = timer() - overall_start\n",
    "    print(f'\\nBest epoch: {best_epoch+1} with loss: {valid_loss_min:.2f}')\n",
    "    print(f'{total_time:.2f} total seconds elapsed. {total_time / (epoch + 1):.2f} seconds per epoch.')\n",
    "    # Format history\n",
    "    history = pd.DataFrame(history,columns=['train_loss', 'valid_loss'])\n",
    "    return model, history"
   ]
  },
  {
   "cell_type": "markdown",
   "id": "dcf9f9e1",
   "metadata": {
    "papermill": {
     "duration": 0.006343,
     "end_time": "2023-10-15T14:28:48.379170",
     "exception": false,
     "start_time": "2023-10-15T14:28:48.372827",
     "status": "completed"
    },
    "tags": []
   },
   "source": [
    "# **Loss Function & Optimizer**"
   ]
  },
  {
   "cell_type": "code",
   "execution_count": 13,
   "id": "627973a3",
   "metadata": {
    "execution": {
     "iopub.execute_input": "2023-10-15T14:28:48.392504Z",
     "iopub.status.busy": "2023-10-15T14:28:48.392258Z",
     "iopub.status.idle": "2023-10-15T14:28:48.397428Z",
     "shell.execute_reply": "2023-10-15T14:28:48.396471Z"
    },
    "papermill": {
     "duration": 0.013727,
     "end_time": "2023-10-15T14:28:48.399187",
     "exception": false,
     "start_time": "2023-10-15T14:28:48.385460",
     "status": "completed"
    },
    "tags": []
   },
   "outputs": [],
   "source": [
    "# --------------------------------------Optimizer\n",
    "# criterion=nn.MSELoss()\n",
    "# criterion = nn.L1Loss()\n",
    "criterion = nn.SmoothL1Loss(beta = 0.5)\n",
    "optimizer = optim.Adam(model.parameters(),lr=0.0001)"
   ]
  },
  {
   "cell_type": "markdown",
   "id": "77060f49",
   "metadata": {
    "papermill": {
     "duration": 0.006042,
     "end_time": "2023-10-15T14:28:48.411442",
     "exception": false,
     "start_time": "2023-10-15T14:28:48.405400",
     "status": "completed"
    },
    "tags": []
   },
   "source": [
    "# **Training..**"
   ]
  },
  {
   "cell_type": "code",
   "execution_count": 14,
   "id": "9b9d9ee7",
   "metadata": {
    "execution": {
     "iopub.execute_input": "2023-10-15T14:28:48.426223Z",
     "iopub.status.busy": "2023-10-15T14:28:48.425917Z",
     "iopub.status.idle": "2023-10-15T14:34:11.707054Z",
     "shell.execute_reply": "2023-10-15T14:34:11.705986Z"
    },
    "papermill": {
     "duration": 323.291504,
     "end_time": "2023-10-15T14:34:11.709540",
     "exception": false,
     "start_time": "2023-10-15T14:28:48.418036",
     "status": "completed"
    },
    "tags": []
   },
   "outputs": [
    {
     "name": "stdout",
     "output_type": "stream",
     "text": [
      "Starting Training from Scratch...\n",
      "\n",
      "Epoch: 1\t100.00% complete. 29.40 seconds elapsed in epoch.\r\n",
      "Epoch: 1 \tTraining Loss: 0.2530 \t\tValidation Loss: 0.0404\n",
      "Epoch: 2\t100.00% complete. 14.52 seconds elapsed in epoch.\r\n",
      "Epoch: 2 \tTraining Loss: 0.0652 \t\tValidation Loss: 0.0363\n",
      "Epoch: 3\t100.00% complete. 15.21 seconds elapsed in epoch.\r\n",
      "Epoch: 3 \tTraining Loss: 0.0534 \t\tValidation Loss: 0.0295\n",
      "Epoch: 4\t100.00% complete. 14.64 seconds elapsed in epoch.\r\n",
      "Epoch: 4 \tTraining Loss: 0.0489 \t\tValidation Loss: 0.0288\n",
      "Epoch: 5\t100.00% complete. 14.62 seconds elapsed in epoch.\r\n",
      "Epoch: 5 \tTraining Loss: 0.0451 \t\tValidation Loss: 0.0288\n",
      "Epoch: 6\t100.00% complete. 14.74 seconds elapsed in epoch.\r\n",
      "Epoch: 6 \tTraining Loss: 0.0439 \t\tValidation Loss: 0.0290\n",
      "Epoch: 7\t100.00% complete. 14.72 seconds elapsed in epoch.\r\n",
      "Epoch: 7 \tTraining Loss: 0.0417 \t\tValidation Loss: 0.0293\n",
      "Epoch: 8\t100.00% complete. 14.97 seconds elapsed in epoch.\r\n",
      "Epoch: 8 \tTraining Loss: 0.0419 \t\tValidation Loss: 0.0289\n",
      "Epoch: 9\t100.00% complete. 14.86 seconds elapsed in epoch.\r\n",
      "Epoch: 9 \tTraining Loss: 0.0408 \t\tValidation Loss: 0.0287\n",
      "Epoch: 10\t100.00% complete. 15.03 seconds elapsed in epoch.\r\n",
      "Epoch: 10 \tTraining Loss: 0.0405 \t\tValidation Loss: 0.0285\n",
      "Epoch: 11\t100.00% complete. 14.80 seconds elapsed in epoch.\r\n",
      "Epoch: 11 \tTraining Loss: 0.0410 \t\tValidation Loss: 0.0281\n",
      "Epoch: 12\t100.00% complete. 15.06 seconds elapsed in epoch.\r\n",
      "Epoch: 12 \tTraining Loss: 0.0396 \t\tValidation Loss: 0.0283\n",
      "Epoch: 13\t100.00% complete. 14.81 seconds elapsed in epoch.\r\n",
      "Epoch: 13 \tTraining Loss: 0.0397 \t\tValidation Loss: 0.0281\n",
      "Epoch: 14\t100.00% complete. 15.13 seconds elapsed in epoch.\r\n",
      "Epoch: 14 \tTraining Loss: 0.0397 \t\tValidation Loss: 0.0287\n",
      "Epoch: 15\t100.00% complete. 15.01 seconds elapsed in epoch.\r\n",
      "Epoch: 15 \tTraining Loss: 0.0406 \t\tValidation Loss: 0.0284\n",
      "Epoch: 16\t100.00% complete. 14.98 seconds elapsed in epoch.\r\n",
      "Epoch: 16 \tTraining Loss: 0.0403 \t\tValidation Loss: 0.0299\n",
      "Epoch: 17\t100.00% complete. 15.17 seconds elapsed in epoch.\r\n",
      "Epoch: 17 \tTraining Loss: 0.0398 \t\tValidation Loss: 0.0285\n",
      "Epoch: 18\t100.00% complete. 14.92 seconds elapsed in epoch.\r\n",
      "Epoch: 18 \tTraining Loss: 0.0398 \t\tValidation Loss: 0.0283\n",
      "\n",
      "Early Stopping! Total epochs: 18. Best epoch: 13 with loss: 0.03\n",
      "323.25 total seconds elapsed. 17.96 seconds per epoch.\n"
     ]
    }
   ],
   "source": [
    "# --------------------------------------Training\n",
    "import numpy as np\n",
    "model, history = train(model,criterion,optimizer,dataloaders['train'],dataloaders['val'],save_file_name=save_file_name,max_epochs_stop=earlyStop,n_epochs=epochsNo,print_every=1)\n",
    "history.to_csv(\"/kaggle/working/history.csv\", index=False, encoding='utf8')"
   ]
  },
  {
   "cell_type": "markdown",
   "id": "e17157a1",
   "metadata": {
    "papermill": {
     "duration": 0.010976,
     "end_time": "2023-10-15T14:34:11.732621",
     "exception": false,
     "start_time": "2023-10-15T14:34:11.721645",
     "status": "completed"
    },
    "tags": []
   },
   "source": [
    "# **Results Graph**"
   ]
  },
  {
   "cell_type": "code",
   "execution_count": 15,
   "id": "3bee1845",
   "metadata": {
    "execution": {
     "iopub.execute_input": "2023-10-15T14:34:11.756386Z",
     "iopub.status.busy": "2023-10-15T14:34:11.756033Z",
     "iopub.status.idle": "2023-10-15T14:34:12.025020Z",
     "shell.execute_reply": "2023-10-15T14:34:12.024106Z"
    },
    "papermill": {
     "duration": 0.28331,
     "end_time": "2023-10-15T14:34:12.027195",
     "exception": false,
     "start_time": "2023-10-15T14:34:11.743885",
     "status": "completed"
    },
    "tags": []
   },
   "outputs": [
    {
     "data": {
      "text/plain": [
       "Text(0.5, 1.0, 'Training and Validation Losses')"
      ]
     },
     "execution_count": 15,
     "metadata": {},
     "output_type": "execute_result"
    },
    {
     "data": {
      "image/png": "[encoded data removed]",
      "text/plain": [
       "<Figure size 1000x800 with 1 Axes>"
      ]
     },
     "metadata": {},
     "output_type": "display_data"
    }
   ],
   "source": [
    "plt.figure(figsize=(10, 8))\n",
    "for c in ['train_loss', 'valid_loss']:\n",
    "    plt.plot(history[c], label=c)\n",
    "plt.legend()\n",
    "plt.xlabel('Epoch',color='k')\n",
    "plt.ylabel('Average Negative Log Likelihood')\n",
    "plt.title('Training and Validation Losses')"
   ]
  },
  {
   "cell_type": "markdown",
   "id": "74116246",
   "metadata": {
    "papermill": {
     "duration": 0.012116,
     "end_time": "2023-10-15T14:34:12.051770",
     "exception": false,
     "start_time": "2023-10-15T14:34:12.039654",
     "status": "completed"
    },
    "tags": []
   },
   "source": [
    "# **Save Model**"
   ]
  },
  {
   "cell_type": "code",
   "execution_count": 16,
   "id": "fc6fcea1",
   "metadata": {
    "execution": {
     "iopub.execute_input": "2023-10-15T14:34:12.078086Z",
     "iopub.status.busy": "2023-10-15T14:34:12.077205Z",
     "iopub.status.idle": "2023-10-15T14:34:12.083300Z",
     "shell.execute_reply": "2023-10-15T14:34:12.082400Z"
    },
    "papermill": {
     "duration": 0.021374,
     "end_time": "2023-10-15T14:34:12.085280",
     "exception": false,
     "start_time": "2023-10-15T14:34:12.063906",
     "status": "completed"
    },
    "tags": []
   },
   "outputs": [],
   "source": [
    "def save_checkpoint(model, path):\n",
    "\n",
    "    # Basic details\n",
    "    checkpoint = {\n",
    "                'epochs': model.epochs\n",
    "                 }\n",
    "\n",
    "    # Extract the final classifier and the state dictionary\n",
    "    checkpoint['classifier'] = model.classifier\n",
    "    checkpoint['state_dict'] = model.state_dict()\n",
    "\n",
    "    # Add the optimizer\n",
    "    checkpoint['optimizer'] = model.optimizer\n",
    "    checkpoint['optimizer_state_dict'] = model.optimizer.state_dict()\n",
    "    # Save the data to the path\n",
    "    torch.save(checkpoint, path)\n",
    "    "
   ]
  },
  {
   "cell_type": "code",
   "execution_count": 17,
   "id": "49f25201",
   "metadata": {
    "execution": {
     "iopub.execute_input": "2023-10-15T14:34:12.111291Z",
     "iopub.status.busy": "2023-10-15T14:34:12.110449Z",
     "iopub.status.idle": "2023-10-15T14:34:12.401088Z",
     "shell.execute_reply": "2023-10-15T14:34:12.400016Z"
    },
    "papermill": {
     "duration": 0.305971,
     "end_time": "2023-10-15T14:34:12.403484",
     "exception": false,
     "start_time": "2023-10-15T14:34:12.097513",
     "status": "completed"
    },
    "tags": []
   },
   "outputs": [],
   "source": [
    "save_checkpoint(model, path=checkpoint_path)"
   ]
  },
  {
   "cell_type": "markdown",
   "id": "2bccda5a",
   "metadata": {
    "papermill": {
     "duration": 0.012138,
     "end_time": "2023-10-15T14:34:12.428189",
     "exception": false,
     "start_time": "2023-10-15T14:34:12.416051",
     "status": "completed"
    },
    "tags": []
   },
   "source": [
    "# **Test the Model**"
   ]
  },
  {
   "cell_type": "code",
   "execution_count": 18,
   "id": "59e89884",
   "metadata": {
    "execution": {
     "iopub.execute_input": "2023-10-15T14:34:12.453600Z",
     "iopub.status.busy": "2023-10-15T14:34:12.453281Z",
     "iopub.status.idle": "2023-10-15T14:34:12.460510Z",
     "shell.execute_reply": "2023-10-15T14:34:12.459553Z"
    },
    "papermill": {
     "duration": 0.021887,
     "end_time": "2023-10-15T14:34:12.462294",
     "exception": false,
     "start_time": "2023-10-15T14:34:12.440407",
     "status": "completed"
    },
    "tags": []
   },
   "outputs": [],
   "source": [
    "\n",
    "def check_mse_on_test(model, testloader, criterion=None, device='cpu'):  \n",
    "    \"\"\"\n",
    "    Compute the Mean Square Error on the test dataset\n",
    "    :param model - a pretrained model object\n",
    "    :param testloader - a generator object representing the test dataset\n",
    "    :param criterion - loss object\n",
    "    :param device - a string specifying whether to use cuda or cpu\n",
    "    return - MSE of predicted head circumference\n",
    "    \"\"\"\n",
    "    loss = 0\n",
    "    test_loss = 0\n",
    "    std_mean = 0\n",
    "    model.eval()\n",
    "    test_dataframe = pd.read_csv(test_filename)\n",
    "    with torch.no_grad():\n",
    "        for data,target in testloader:\n",
    "            if train_on_gpu:\n",
    "                data, target = data.cuda(), target.cuda()\n",
    "            output = model(data)\n",
    "\n",
    "            test_dataframe ['predicted output'] = np.squeeze(output.cpu().numpy())\n",
    "            test_dataframe.to_csv(\"/kaggle/working/pred_test_file.csv\", index=False, encoding='utf8')\n",
    "\n",
    "            std_mean = torch.std_mean(output)\n",
    "            loss = criterion(output, target.float())\n",
    "            # Multiply average loss times the number of examples in batch\n",
    "            test_loss += loss.item() * data.size(0)\n",
    "            \n",
    "    return std_mean , test_loss / len(testloader.dataset)"
   ]
  },
  {
   "cell_type": "code",
   "execution_count": 19,
   "id": "cc9929b5",
   "metadata": {
    "execution": {
     "iopub.execute_input": "2023-10-15T14:34:12.487518Z",
     "iopub.status.busy": "2023-10-15T14:34:12.487014Z",
     "iopub.status.idle": "2023-10-15T14:34:12.491037Z",
     "shell.execute_reply": "2023-10-15T14:34:12.490062Z"
    },
    "papermill": {
     "duration": 0.018691,
     "end_time": "2023-10-15T14:34:12.492845",
     "exception": false,
     "start_time": "2023-10-15T14:34:12.474154",
     "status": "completed"
    },
    "tags": []
   },
   "outputs": [],
   "source": [
    "criterion = nn.L1Loss()"
   ]
  },
  {
   "cell_type": "code",
   "execution_count": 20,
   "id": "715378c2",
   "metadata": {
    "execution": {
     "iopub.execute_input": "2023-10-15T14:34:12.518225Z",
     "iopub.status.busy": "2023-10-15T14:34:12.517438Z",
     "iopub.status.idle": "2023-10-15T14:34:15.482689Z",
     "shell.execute_reply": "2023-10-15T14:34:15.481609Z"
    },
    "papermill": {
     "duration": 2.980895,
     "end_time": "2023-10-15T14:34:15.485631",
     "exception": false,
     "start_time": "2023-10-15T14:34:12.504736",
     "status": "completed"
    },
    "tags": []
   },
   "outputs": [
    {
     "name": "stdout",
     "output_type": "stream",
     "text": [
      "Test set MAE loss = 0.1318 \n",
      "Test set standard deviation of Hc =  9.2638 mm\n",
      "Test set MAE loss of HC = 45.6634 mm\n"
     ]
    }
   ],
   "source": [
    "std_mean , test_loss = check_mse_on_test(model, dataloaders['test'], criterion, device='cuda')\n",
    "print('Test set MAE loss = {:.4f} '.format(test_loss))\n",
    "print('Test set standard deviation of Hc =  {:.4f} mm'.format(std_mean[0] * 346.4))\n",
    "print('Test set MAE loss of HC = {:.4f} mm'.format(test_loss * 346.4))"
   ]
  }
 ],
 "metadata": {
  "kernelspec": {
   "display_name": "Python 3",
   "language": "python",
   "name": "python3"
  },
  "language_info": {
   "codemirror_mode": {
    "name": "ipython",
    "version": 3
   },
   "file_extension": ".py",
   "mimetype": "text/x-python",
   "name": "python",
   "nbconvert_exporter": "python",
   "pygments_lexer": "ipython3",
   "version": "3.7.12"
  },
  "papermill": {
   "default_parameters": {},
   "duration": 356.08792,
   "end_time": "2023-10-15T14:34:18.865544",
   "environment_variables": {},
   "exception": null,
   "input_path": "__notebook__.ipynb",
   "output_path": "__notebook__.ipynb",
   "parameters": {},
   "start_time": "2023-10-15T14:28:22.777624",
   "version": "2.3.4"
  },
  "widgets": {
   "application/vnd.jupyter.widget-state+json": {
    "state": {
     "0139c4415fdf4c3bbc9decbab3dd4f36": {
      "model_module": "@jupyter-widgets/controls",
      "model_module_version": "1.5.0",
      "model_name": "DescriptionStyleModel",
      "state": {
       "_model_module": "@jupyter-widgets/controls",
       "_model_module_version": "1.5.0",
       "_model_name": "DescriptionStyleModel",
       "_view_count": null,
       "_view_module": "@jupyter-widgets/base",
       "_view_module_version": "1.2.0",
       "_view_name": "StyleView",
       "description_width": ""
      }
     },
     "229f8ef281fc45c7b568b3a4947d7091": {
      "model_module": "@jupyter-widgets/base",
      "model_module_version": "1.2.0",
      "model_name": "LayoutModel",
      "state": {
       "_model_module": "@jupyter-widgets/base",
       "_model_module_version": "1.2.0",
       "_model_name": "LayoutModel",
       "_view_count": null,
       "_view_module": "@jupyter-widgets/base",
       "_view_module_version": "1.2.0",
       "_view_name": "LayoutView",
       "align_content": null,
       "align_items": null,
       "align_self": null,
       "border": null,
       "bottom": null,
       "display": null,
       "flex": null,
       "flex_flow": null,
       "grid_area": null,
       "grid_auto_columns": null,
       "grid_auto_flow": null,
       "grid_auto_rows": null,
       "grid_column": null,
       "grid_gap": null,
       "grid_row": null,
       "grid_template_areas": null,
       "grid_template_columns": null,
       "grid_template_rows": null,
       "height": null,
       "justify_content": null,
       "justify_items": null,
       "left": null,
       "margin": null,
       "max_height": null,
       "max_width": null,
       "min_height": null,
       "min_width": null,
       "object_fit": null,
       "object_position": null,
       "order": null,
       "overflow": null,
       "overflow_x": null,
       "overflow_y": null,
       "padding": null,
       "right": null,
       "top": null,
       "visibility": null,
       "width": null
      }
     },
     "456c6e03538a49b2b64a3c5f66375dd7": {
      "model_module": "@jupyter-widgets/controls",
      "model_module_version": "1.5.0",
      "model_name": "FloatProgressModel",
      "state": {
       "_dom_classes": [],
       "_model_module": "@jupyter-widgets/controls",
       "_model_module_version": "1.5.0",
       "_model_name": "FloatProgressModel",
       "_view_count": null,
       "_view_module": "@jupyter-widgets/controls",
       "_view_module_version": "1.5.0",
       "_view_name": "ProgressView",
       "bar_style": "success",
       "description": "",
       "description_tooltip": null,
       "layout": "IPY_MODEL_6df53210671b4b658a91fee2c66a7e0d",
       "max": 553433881.0,
       "min": 0.0,
       "orientation": "horizontal",
       "style": "IPY_MODEL_b044c82742bf4018b482b5a797eba29f",
       "value": 553433881.0
      }
     },
     "6df53210671b4b658a91fee2c66a7e0d": {
      "model_module": "@jupyter-widgets/base",
      "model_module_version": "1.2.0",
      "model_name": "LayoutModel",
      "state": {
       "_model_module": "@jupyter-widgets/base",
       "_model_module_version": "1.2.0",
       "_model_name": "LayoutModel",
       "_view_count": null,
       "_view_module": "@jupyter-widgets/base",
       "_view_module_version": "1.2.0",
       "_view_name": "LayoutView",
       "align_content": null,
       "align_items": null,
       "align_self": null,
       "border": null,
       "bottom": null,
       "display": null,
       "flex": null,
       "flex_flow": null,
       "grid_area": null,
       "grid_auto_columns": null,
       "grid_auto_flow": null,
       "grid_auto_rows": null,
       "grid_column": null,
       "grid_gap": null,
       "grid_row": null,
       "grid_template_areas": null,
       "grid_template_columns": null,
       "grid_template_rows": null,
       "height": null,
       "justify_content": null,
       "justify_items": null,
       "left": null,
       "margin": null,
       "max_height": null,
       "max_width": null,
       "min_height": null,
       "min_width": null,
       "object_fit": null,
       "object_position": null,
       "order": null,
       "overflow": null,
       "overflow_x": null,
       "overflow_y": null,
       "padding": null,
       "right": null,
       "top": null,
       "visibility": null,
       "width": null
      }
     },
     "81be5dffc8324d179b5534b5e8fd3013": {
      "model_module": "@jupyter-widgets/controls",
      "model_module_version": "1.5.0",
      "model_name": "HTMLModel",
      "state": {
       "_dom_classes": [],
       "_model_module": "@jupyter-widgets/controls",
       "_model_module_version": "1.5.0",
       "_model_name": "HTMLModel",
       "_view_count": null,
       "_view_module": "@jupyter-widgets/controls",
       "_view_module_version": "1.5.0",
       "_view_name": "HTMLView",
       "description": "",
       "description_tooltip": null,
       "layout": "IPY_MODEL_86f5fb6f5c4a4b7484a713cdded02d56",
       "placeholder": "​",
       "style": "IPY_MODEL_0139c4415fdf4c3bbc9decbab3dd4f36",
       "value": " 528M/528M [00:02&lt;00:00, 207MB/s]"
      }
     },
     "86f5fb6f5c4a4b7484a713cdded02d56": {
      "model_module": "@jupyter-widgets/base",
      "model_module_version": "1.2.0",
      "model_name": "LayoutModel",
      "state": {
       "_model_module": "@jupyter-widgets/base",
       "_model_module_version": "1.2.0",
       "_model_name": "LayoutModel",
       "_view_count": null,
       "_view_module": "@jupyter-widgets/base",
       "_view_module_version": "1.2.0",
       "_view_name": "LayoutView",
       "align_content": null,
       "align_items": null,
       "align_self": null,
       "border": null,
       "bottom": null,
       "display": null,
       "flex": null,
       "flex_flow": null,
       "grid_area": null,
       "grid_auto_columns": null,
       "grid_auto_flow": null,
       "grid_auto_rows": null,
       "grid_column": null,
       "grid_gap": null,
       "grid_row": null,
       "grid_template_areas": null,
       "grid_template_columns": null,
       "grid_template_rows": null,
       "height": null,
       "justify_content": null,
       "justify_items": null,
       "left": null,
       "margin": null,
       "max_height": null,
       "max_width": null,
       "min_height": null,
       "min_width": null,
       "object_fit": null,
       "object_position": null,
       "order": null,
       "overflow": null,
       "overflow_x": null,
       "overflow_y": null,
       "padding": null,
       "right": null,
       "top": null,
       "visibility": null,
       "width": null
      }
     },
     "b044c82742bf4018b482b5a797eba29f": {
      "model_module": "@jupyter-widgets/controls",
      "model_module_version": "1.5.0",
      "model_name": "ProgressStyleModel",
      "state": {
       "_model_module": "@jupyter-widgets/controls",
       "_model_module_version": "1.5.0",
       "_model_name": "ProgressStyleModel",
       "_view_count": null,
       "_view_module": "@jupyter-widgets/base",
       "_view_module_version": "1.2.0",
       "_view_name": "StyleView",
       "bar_color": null,
       "description_width": ""
      }
     },
     "b3c93884dcaa4ce8b740443cdac639d5": {
      "model_module": "@jupyter-widgets/controls",
      "model_module_version": "1.5.0",
      "model_name": "DescriptionStyleModel",
      "state": {
       "_model_module": "@jupyter-widgets/controls",
       "_model_module_version": "1.5.0",
       "_model_name": "DescriptionStyleModel",
       "_view_count": null,
       "_view_module": "@jupyter-widgets/base",
       "_view_module_version": "1.2.0",
       "_view_name": "StyleView",
       "description_width": ""
      }
     },
     "be40cdc97f354a6aa998dc223af21758": {
      "model_module": "@jupyter-widgets/controls",
      "model_module_version": "1.5.0",
      "model_name": "HTMLModel",
      "state": {
       "_dom_classes": [],
       "_model_module": "@jupyter-widgets/controls",
       "_model_module_version": "1.5.0",
       "_model_name": "HTMLModel",
       "_view_count": null,
       "_view_module": "@jupyter-widgets/controls",
       "_view_module_version": "1.5.0",
       "_view_name": "HTMLView",
       "description": "",
       "description_tooltip": null,
       "layout": "IPY_MODEL_229f8ef281fc45c7b568b3a4947d7091",
       "placeholder": "​",
       "style": "IPY_MODEL_b3c93884dcaa4ce8b740443cdac639d5",
       "value": "100%"
      }
     },
     "c6cee91245e94306a70c0a98df2d5ed7": {
      "model_module": "@jupyter-widgets/base",
      "model_module_version": "1.2.0",
      "model_name": "LayoutModel",
      "state": {
       "_model_module": "@jupyter-widgets/base",
       "_model_module_version": "1.2.0",
       "_model_name": "LayoutModel",
       "_view_count": null,
       "_view_module": "@jupyter-widgets/base",
       "_view_module_version": "1.2.0",
       "_view_name": "LayoutView",
       "align_content": null,
       "align_items": null,
       "align_self": null,
       "border": null,
       "bottom": null,
       "display": null,
       "flex": null,
       "flex_flow": null,
       "grid_area": null,
       "grid_auto_columns": null,
       "grid_auto_flow": null,
       "grid_auto_rows": null,
       "grid_column": null,
       "grid_gap": null,
       "grid_row": null,
       "grid_template_areas": null,
       "grid_template_columns": null,
       "grid_template_rows": null,
       "height": null,
       "justify_content": null,
       "justify_items": null,
       "left": null,
       "margin": null,
       "max_height": null,
       "max_width": null,
       "min_height": null,
       "min_width": null,
       "object_fit": null,
       "object_position": null,
       "order": null,
       "overflow": null,
       "overflow_x": null,
       "overflow_y": null,
       "padding": null,
       "right": null,
       "top": null,
       "visibility": null,
       "width": null
      }
     },
     "cdb891321b71475f9dd3a2480e531259": {
      "model_module": "@jupyter-widgets/controls",
      "model_module_version": "1.5.0",
      "model_name": "HBoxModel",
      "state": {
       "_dom_classes": [],
       "_model_module": "@jupyter-widgets/controls",
       "_model_module_version": "1.5.0",
       "_model_name": "HBoxModel",
       "_view_count": null,
       "_view_module": "@jupyter-widgets/controls",
       "_view_module_version": "1.5.0",
       "_view_name": "HBoxView",
       "box_style": "",
       "children": [
        "IPY_MODEL_be40cdc97f354a6aa998dc223af21758",
        "IPY_MODEL_456c6e03538a49b2b64a3c5f66375dd7",
        "IPY_MODEL_81be5dffc8324d179b5534b5e8fd3013"
       ],
       "layout": "IPY_MODEL_c6cee91245e94306a70c0a98df2d5ed7"
      }
     }
    },
    "version_major": 2,
    "version_minor": 0
   }
  }
 },
 "nbformat": 4,
 "nbformat_minor": 5
}
